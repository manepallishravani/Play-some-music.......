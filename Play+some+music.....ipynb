{
 "cells": [
  {
   "cell_type": "code",
   "execution_count": null,
   "metadata": {
    "collapsed": true
   },
   "outputs": [],
   "source": [
    "import winsound\n",
    "\n",
    "print(\"Binary Representation of sound\")\n",
    "\n",
    "print(\"Enter the duration of each note (in ms)?\")\n",
    "print(\"e.g. 200\")\n",
    "rate = int(input(\">\"))\n",
    "\n",
    "print(\"Enter a 4-bit binary note\")\n",
    "print(\"Or more than one note separated by spaces\")\n",
    "\n",
    "print(\"Notes:\")\n",
    "print(\"0000 = no sound\")\n",
    "print(\"0001 = Low C\")\n",
    "print(\"0010 = D\")\n",
    "print(\"0011 = E\")\n",
    "print(\"0100 = F\")\n",
    "print(\"0101 = G\")\n",
    "print(\"0110 = A\")\n",
    "print(\"0111 = B\")\n",
    "print(\"1000 = High C\")\n",
    "\n",
    "\n",
    "print(\"e.g: \")\n",
    "print(\"0101 0101 0101 0010 0011 0011 0010 0000 0111 0111 0110 0110 0101\")\n",
    "soundBinary = input(\">\")\n",
    "\n",
    "for note in soundBinary.split():\n",
    "\n",
    "    if note == \"0000\":          #rest\n",
    "        freq = 37\n",
    "    elif note == \"0001\":        #low c\n",
    "        freq = 262\n",
    "    elif note == \"0010\":        #d\n",
    "        freq = 294\n",
    "    elif note == \"0011\":        #e\n",
    "        freq = 330\n",
    "    elif note == \"0100\":        #f\n",
    "        freq = 349\n",
    "    elif note == \"0101\":        #g\n",
    "        freq = 392\n",
    "    elif note == \"0110\":        #a\n",
    "        freq = 440\n",
    "    elif note == \"0111\":        #b\n",
    "        freq = 494\n",
    "    elif note == \"1000\":        #high c\n",
    "        freq = 523\n",
    "        \n",
    "    winsound.Beep(freq, rate)\n"
   ]
  }
 ],
 "metadata": {
  "kernelspec": {
   "display_name": "Python 3",
   "language": "python",
   "name": "python3"
  }
 },
 "nbformat": 4,
 "nbformat_minor": 2
}
